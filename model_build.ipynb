{
 "cells": [
  {
   "metadata": {},
   "cell_type": "markdown",
   "source": "# Load data + libs",
   "id": "5a13bbdfb93edeef"
  },
  {
   "metadata": {
    "collapsed": true,
    "ExecuteTime": {
     "end_time": "2025-08-24T11:03:39.149602Z",
     "start_time": "2025-08-24T11:03:36.871639Z"
    }
   },
   "cell_type": "code",
   "source": [
    "# Import libs\n",
    "from utils import *\n",
    "\n",
    "# Load data\n",
    "df_revenue = pd.read_csv('data_for_modelling/df_revenue.csv')\n",
    "df_ebitda = pd.read_csv('data_for_modelling/df_ebitda.csv')\n",
    "df_roa = pd.read_csv('data_for_modelling/df_roa.csv')\n",
    "df_roe = pd.read_csv('data_for_modelling/df_roe.csv')\n",
    "df_roic = pd.read_csv('data_for_modelling/df_roic.csv')\n",
    "df_roce = pd.read_csv('data_for_modelling/df_roce.csv')\n",
    "df_value = pd.read_csv('data_for_modelling/df_value_ad.csv')"
   ],
   "id": "initial_id",
   "outputs": [],
   "execution_count": 1
  },
  {
   "metadata": {},
   "cell_type": "markdown",
   "source": "# Modelling",
   "id": "7180e0dc25553ff"
  },
  {
   "metadata": {},
   "cell_type": "code",
   "outputs": [],
   "execution_count": null,
   "source": [
    "# Make input - test set\n",
    "revenue_input, revenue_test = input_test_split(df_revenue)\n",
    "roa_input, roa_test = input_test_split(df_roa)\n",
    "roe_input, roe_test = input_test_split(df_roe)\n",
    "roic_input, roic_test = input_test_split(df_roic)\n",
    "roce_input, roce_test = input_test_split(df_roce)\n",
    "\n",
    "value_input, value_test = input_test_split(df_value)\n",
    "ebitda_input, ebitda_test = input_test_split(df_ebitda)"
   ],
   "id": "84946df16cd2d00c"
  },
  {
   "metadata": {},
   "cell_type": "markdown",
   "source": [
    "+ Step 1: choose algorithm theoretically\n",
    "+ Step 2: hyper-param tuning with the chosen algo(s)\n",
    "+ Step 3: feature engineer to improve model at each folds\n",
    "+ Step 4: Train and last check on train-val-test sets."
   ],
   "id": "3f798f8e15a09f51"
  },
  {
   "metadata": {},
   "cell_type": "code",
   "outputs": [],
   "execution_count": null,
   "source": "# Step 1: CHoose algorithm",
   "id": "34194c224c9495c2"
  },
  {
   "metadata": {
    "ExecuteTime": {
     "end_time": "2025-08-24T11:04:48.253964Z",
     "start_time": "2025-08-24T11:04:48.248346Z"
    }
   },
   "cell_type": "code",
   "source": "# Step 2: hyper-param tuning with cross validation\n",
   "id": "df95e153bcaa34d1",
   "outputs": [],
   "execution_count": 3
  }
 ],
 "metadata": {
  "kernelspec": {
   "display_name": "Python 3",
   "language": "python",
   "name": "python3"
  },
  "language_info": {
   "codemirror_mode": {
    "name": "ipython",
    "version": 2
   },
   "file_extension": ".py",
   "mimetype": "text/x-python",
   "name": "python",
   "nbconvert_exporter": "python",
   "pygments_lexer": "ipython2",
   "version": "2.7.6"
  }
 },
 "nbformat": 4,
 "nbformat_minor": 5
}
