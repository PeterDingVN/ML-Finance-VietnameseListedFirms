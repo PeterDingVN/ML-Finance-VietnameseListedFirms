{
 "cells": [
  {
   "cell_type": "code",
   "id": "initial_id",
   "metadata": {
    "collapsed": true
   },
   "source": [
    "# Import libs\n",
    "from utils import *"
   ],
   "outputs": [],
   "execution_count": null
  },
  {
   "metadata": {},
   "cell_type": "code",
   "source": [
    "# Load data\n",
    "df_revenue = pd.read_csv('df_revenue.csv')\n",
    "df_ebitda = pd.read_csv('df_ebitda.csv')\n",
    "df_roa = pd.read_csv('df_roa.csv')\n",
    "df_roe = pd.read_csv('df_roe.csv')\n",
    "df_roic = pd.read_csv('df_roic.csv')\n",
    "df_roce = pd.read_csv('df_roce.csv')\n",
    "df_value = pd.read_csv('df_value.csv')"
   ],
   "id": "f980ce9897756cc1",
   "outputs": [],
   "execution_count": null
  }
 ],
 "metadata": {
  "kernelspec": {
   "display_name": "Python 3",
   "language": "python",
   "name": "python3"
  },
  "language_info": {
   "codemirror_mode": {
    "name": "ipython",
    "version": 2
   },
   "file_extension": ".py",
   "mimetype": "text/x-python",
   "name": "python",
   "nbconvert_exporter": "python",
   "pygments_lexer": "ipython2",
   "version": "2.7.6"
  }
 },
 "nbformat": 4,
 "nbformat_minor": 5
}
