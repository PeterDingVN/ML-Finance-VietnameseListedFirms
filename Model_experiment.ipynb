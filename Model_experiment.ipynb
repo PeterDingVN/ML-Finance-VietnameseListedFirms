{
 "cells": [
  {
   "metadata": {},
   "cell_type": "markdown",
   "source": "# Import lib",
   "id": "cdd072b453019943"
  },
  {
   "cell_type": "code",
   "id": "initial_id",
   "metadata": {
    "collapsed": true,
    "ExecuteTime": {
     "end_time": "2025-08-13T14:49:17.337283Z",
     "start_time": "2025-08-13T14:49:14.948599Z"
    }
   },
   "source": "from utils.libs import *",
   "outputs": [],
   "execution_count": 2
  },
  {
   "metadata": {},
   "cell_type": "markdown",
   "source": "# Dataset",
   "id": "734be83be0be751e"
  },
  {
   "metadata": {
    "ExecuteTime": {
     "end_time": "2025-08-13T14:51:39.430529Z",
     "start_time": "2025-08-13T14:51:39.205284Z"
    }
   },
   "cell_type": "code",
   "source": [
    "# Load and preprocess\n",
    "# Load\n",
    "df = pd.read_csv(r'C:\\Users\\HP\\.0_PycharmProjects\\EBITDA_prediction\\ML-Finance-VietnameseListedFirms\\Dataset\\dataset_input.csv')\n",
    "\n",
    "# Preprocess\n",
    "df = df[df['company'].isna()==False]\n",
    "df.drop(columns = ['platform'], inplace=True)\n",
    "\n",
    "    # for_own/gov_own -> dummy var (0 or null -> 0; else -> 1)\n",
    "df[['for_own', 'gov_own']] = df[['for_own', 'gov_own']].fillna(0)\n",
    "df['for_own'] = df['for_own'].apply(\n",
    "    lambda x: 0 if x == 0  else 1)\n",
    "df['gov_own'] = df['gov_own'].apply(\n",
    "    lambda x: 0 if x == 0  else 1)\n",
    "\n",
    "    ## ----- Data ------- ##\n",
    "df_raw = df.copy()\n",
    "df_raw.sort_values(by=['company', 'year'], ascending=True, inplace=True)"
   ],
   "id": "8964485da3aed0fb",
   "outputs": [],
   "execution_count": 6
  },
  {
   "metadata": {},
   "cell_type": "code",
   "outputs": [],
   "execution_count": null,
   "source": "# Scaled data to",
   "id": "ce740feea47e63b4"
  }
 ],
 "metadata": {
  "kernelspec": {
   "display_name": "Python 3",
   "language": "python",
   "name": "python3"
  },
  "language_info": {
   "codemirror_mode": {
    "name": "ipython",
    "version": 2
   },
   "file_extension": ".py",
   "mimetype": "text/x-python",
   "name": "python",
   "nbconvert_exporter": "python",
   "pygments_lexer": "ipython2",
   "version": "2.7.6"
  }
 },
 "nbformat": 4,
 "nbformat_minor": 5
}
