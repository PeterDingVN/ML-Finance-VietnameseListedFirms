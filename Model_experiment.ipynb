{
 "cells": [
  {
   "metadata": {},
   "cell_type": "markdown",
   "source": "# Import lib",
   "id": "cdd072b453019943"
  },
  {
   "cell_type": "code",
   "id": "initial_id",
   "metadata": {
    "collapsed": true
   },
   "source": "from utils.libs import *",
   "outputs": [],
   "execution_count": null
  },
  {
   "metadata": {},
   "cell_type": "markdown",
   "source": "# Dataset",
   "id": "734be83be0be751e"
  },
  {
   "metadata": {},
   "cell_type": "markdown",
   "source": "## Initial processing of data",
   "id": "68040d0aa9e2f333"
  },
  {
   "metadata": {},
   "cell_type": "markdown",
   "source": "Raw data",
   "id": "6796cd3f311d0237"
  },
  {
   "metadata": {},
   "cell_type": "code",
   "source": [
    "# Load and preprocess\n",
    "# Load\n",
    "df = pd.read_csv(r'C:\\Users\\HP\\.0_PycharmProjects\\EBITDA_prediction\\ML-Finance-VietnameseListedFirms\\Dataset\\dataset_input.csv')\n",
    "\n",
    "# Preprocess\n",
    "df = df[df['company'].isna()==False]\n",
    "df.drop(columns = ['platform'], inplace=True)\n",
    "\n",
    "    # for_own/gov_own -> dummy var (0 or null -> 0; else -> 1)\n",
    "df[['for_own', 'gov_own']] = df[['for_own', 'gov_own']].fillna(0)\n",
    "df['for_own'] = df['for_own'].apply(\n",
    "    lambda x: 0 if x == 0  else 1)\n",
    "df['gov_own'] = df['gov_own'].apply(\n",
    "    lambda x: 0 if x == 0  else 1)\n",
    "\n",
    "    ## ----- Data prescaled ------- ##\n",
    "df_raw = df.copy()\n",
    "df_raw.sort_values(by=['company', 'year'], ascending=True, inplace=True)"
   ],
   "id": "8964485da3aed0fb",
   "outputs": [],
   "execution_count": null
  },
  {
   "metadata": {},
   "cell_type": "markdown",
   "source": "To better reflect the value of the data, I scaled it based on GDP deflator of year 2010 for all vars (except percentage based vars)",
   "id": "e4898b37260aadb"
  },
  {
   "metadata": {
    "jupyter": {
     "is_executing": true
    }
   },
   "cell_type": "code",
   "source": [
    "# Scaled data to GDP deflator 2010\n",
    "df_raw_deflator = df_raw.copy()\n",
    "df_raw_deflator['deflator_scaled'] = df_raw_deflator['year'].map(\n",
    "    {2015: 0.71, 2016: 0.70, 2017: 0.67,2018: 0.65,2019: 0.63,2020: 0.62,2021: 0.60,2022: 0.58,2023: 0.57,2024: 0.54})\n",
    "\n",
    "# Scaled\n",
    "df_raw_deflator[['ebitda', 'revenue', 'cogs', 'sales_cost',\n",
    "       'admin_cost', 'net_op_profit', 'short_receive', 'in_stock',\n",
    "       'invest_nav', 'long_receive', 'long_liability', 'short_liability',\n",
    "       'cash', 'fixed_asset', 'other_long_asset', 'cwip', 'other_short_asset',\n",
    "       'long_invest', 'equity_fund', 'other_fund']] = \\\n",
    "df_raw_deflator[['ebitda', 'revenue', 'cogs', 'sales_cost',\n",
    "       'admin_cost', 'net_op_profit', 'short_receive', 'in_stock',\n",
    "       'invest_nav', 'long_receive', 'long_liability', 'short_liability',\n",
    "       'cash', 'fixed_asset', 'other_long_asset', 'cwip', 'other_short_asset',\n",
    "       'long_invest', 'equity_fund', 'other_fund']].apply(lambda x: x*df_raw_deflator['deflator_scaled'])\n",
    "\n",
    "# drop the scaler\n",
    "df_raw_deflator.drop(columns='deflator_scaled', inplace=True)"
   ],
   "id": "ce740feea47e63b4",
   "outputs": [],
   "execution_count": null
  },
  {
   "metadata": {},
   "cell_type": "markdown",
   "source": "## Raw input data",
   "id": "fe584a285486b573"
  },
  {
   "metadata": {},
   "cell_type": "markdown",
   "source": "Raw revenue",
   "id": "5eb3b53dded0a2c5"
  },
  {
   "metadata": {},
   "cell_type": "code",
   "source": "",
   "id": "4d1ced4aae86edf2",
   "outputs": [],
   "execution_count": null
  },
  {
   "metadata": {},
   "cell_type": "markdown",
   "source": "Raw Value added",
   "id": "bb73d86b7d15ec47"
  },
  {
   "metadata": {},
   "cell_type": "code",
   "source": "",
   "id": "4c706052d436b4a8",
   "outputs": [],
   "execution_count": null
  },
  {
   "metadata": {},
   "cell_type": "markdown",
   "source": "ROA",
   "id": "29f3f6efc3cd1e28"
  },
  {
   "metadata": {},
   "cell_type": "code",
   "source": "",
   "id": "dd1678433cc5e703",
   "outputs": [],
   "execution_count": null
  },
  {
   "metadata": {},
   "cell_type": "markdown",
   "source": "ROE",
   "id": "e3334a1d6b327669"
  },
  {
   "metadata": {},
   "cell_type": "code",
   "source": "",
   "id": "cfe4ed79599338e7",
   "outputs": [],
   "execution_count": null
  }
 ],
 "metadata": {
  "kernelspec": {
   "display_name": "Python 3",
   "language": "python",
   "name": "python3"
  },
  "language_info": {
   "codemirror_mode": {
    "name": "ipython",
    "version": 2
   },
   "file_extension": ".py",
   "mimetype": "text/x-python",
   "name": "python",
   "nbconvert_exporter": "python",
   "pygments_lexer": "ipython2",
   "version": "2.7.6"
  }
 },
 "nbformat": 4,
 "nbformat_minor": 5
}
