{
 "cells": [
  {
   "metadata": {},
   "cell_type": "markdown",
   "source": "# Import lib",
   "id": "cdd072b453019943"
  },
  {
   "metadata": {
    "ExecuteTime": {
     "end_time": "2025-08-16T08:18:29.572739Z",
     "start_time": "2025-08-16T08:18:17.055422Z"
    }
   },
   "cell_type": "code",
   "source": "from utils import *",
   "id": "271f1e584fbcca4f",
   "outputs": [],
   "execution_count": 1
  },
  {
   "metadata": {},
   "cell_type": "markdown",
   "source": "# Dataset",
   "id": "734be83be0be751e"
  },
  {
   "metadata": {},
   "cell_type": "markdown",
   "source": "## Raw input",
   "id": "68040d0aa9e2f333"
  },
  {
   "metadata": {},
   "cell_type": "markdown",
   "source": "Raw data",
   "id": "6796cd3f311d0237"
  },
  {
   "metadata": {
    "ExecuteTime": {
     "end_time": "2025-08-16T08:18:42.555150Z",
     "start_time": "2025-08-16T08:18:42.292940Z"
    }
   },
   "cell_type": "code",
   "source": [
    "# Load and preprocess\n",
    "# Load\n",
    "df = pd.read_csv(r'Dataset/dataset.csv')\n",
    "\n",
    "# Preprocess\n",
    "df = df[df['company'].isna()==False]\n",
    "df.drop(columns = ['platform'], inplace=True)\n",
    "\n",
    "    # for_own/gov_own -> dummy var (0 or null -> 0; else -> 1)\n",
    "df[['for_own', 'gov_own']] = df[['for_own', 'gov_own']].fillna(0)\n",
    "df['for_own'] = df['for_own'].apply(\n",
    "    lambda x: 0 if x == 0  else 1)\n",
    "df['gov_own'] = df['gov_own'].apply(\n",
    "    lambda x: 0 if x == 0  else 1)\n",
    "\n",
    "    ## ----- Data prescaled ------- ##\n",
    "df_raw = df.copy()\n",
    "df_raw.sort_values(by=['company', 'year'], ascending=True, inplace=True)"
   ],
   "id": "8964485da3aed0fb",
   "outputs": [],
   "execution_count": 3
  },
  {
   "metadata": {},
   "cell_type": "markdown",
   "source": "To better reflect the value of the data, I scaled all vars based on GDP deflator of year 2010 for all vars (except percentage based vars)",
   "id": "e4898b37260aadb"
  },
  {
   "metadata": {
    "ExecuteTime": {
     "end_time": "2025-08-16T08:18:42.599979Z",
     "start_time": "2025-08-16T08:18:42.563214Z"
    }
   },
   "cell_type": "code",
   "source": [
    "# Scaled data to GDP deflator 2010\n",
    "df_raw_deflator = df_raw.copy()\n",
    "df_raw_deflator['deflator_scaled'] = df_raw_deflator['year'].map(\n",
    "    {2015: 0.71, 2016: 0.70, 2017: 0.67,2018: 0.65,2019: 0.63,2020: 0.62,2021: 0.60,2022: 0.58,2023: 0.57,2024: 0.54})\n",
    "\n",
    "# Scaled\n",
    "df_raw_deflator[['ebitda', 'revenue', 'cogs', 'sales_cost',\n",
    "       'admin_cost', 'net_op_profit', 'short_receive', 'in_stock',\n",
    "       'invest_nav', 'long_receive', 'long_liability', 'short_liability',\n",
    "       'cash', 'fixed_asset', 'other_long_asset', 'cwip', 'other_short_asset',\n",
    "       'long_invest', 'equity_fund', 'other_fund', 'market_cap', 'ev']] = \\\n",
    "df_raw_deflator[['ebitda', 'revenue', 'cogs', 'sales_cost',\n",
    "       'admin_cost', 'net_op_profit', 'short_receive', 'in_stock',\n",
    "       'invest_nav', 'long_receive', 'long_liability', 'short_liability',\n",
    "       'cash', 'fixed_asset', 'other_long_asset', 'cwip', 'other_short_asset',\n",
    "       'long_invest', 'equity_fund', 'other_fund', 'market_cap', 'ev']].apply(lambda x:\n",
    "                                                                        x*df_raw_deflator['deflator_scaled'])\n",
    "\n",
    "# drop the scaler\n",
    "df_raw_deflator.drop(columns='deflator_scaled', inplace=True)"
   ],
   "id": "ce740feea47e63b4",
   "outputs": [],
   "execution_count": 4
  },
  {
   "metadata": {},
   "cell_type": "markdown",
   "source": [
    "Comment:\n",
    "- Target variable (outcome): ebitda dummy, revenue, roa, roe, roic, roce, value_added (see vars_used.txt file for details)\n",
    "- As raw input, all the rest vars are used as features"
   ],
   "id": "a46ba9bf644b852a"
  },
  {
   "metadata": {},
   "cell_type": "markdown",
   "source": "## Target feature EDA",
   "id": "7386f93ff51a2adf"
  },
  {
   "metadata": {},
   "cell_type": "markdown",
   "source": [
    "REVENUE:\n",
    "+ After applying log, skew and kurtosis of revenue decreases -> good\n",
    "+ The distribution of revenue turns into normal dist"
   ],
   "id": "50a33ab3e0b6ea4b"
  },
  {
   "metadata": {
    "ExecuteTime": {
     "end_time": "2025-08-16T08:33:10.652193Z",
     "start_time": "2025-08-16T08:33:05.407684Z"
    }
   },
   "cell_type": "code",
   "source": [
    "# Revenue\n",
    "df_rev = df_raw_deflator.drop(columns=['ebitda', 'net_op_profit', 'roa','roe', 'roic', 'roce'])\n",
    "  # Filter for rev > 0\n",
    "df_rev = df_rev[df_rev['revenue']>0]\n",
    "print('-------- Original -----------')\n",
    "display(eda_describe(df_rev.drop(columns='year'))[:1])\n",
    "print('------- Log scaled ------------')\n",
    "df_rev_log = df_rev.copy()\n",
    "df_rev_log['revenue'] = df_rev_log['revenue'].apply(lambda x: np.log(x))\n",
    "display(eda_describe(df_rev_log.drop(columns='year'))[:1])\n",
    "    # Chart\n",
    "f, ax = plt.subplots(1,2, figsize=(10,4))\n",
    "ax[0].set_title('Revenue Origin')\n",
    "ax[0].set_ylim(top=200)\n",
    "sns.histplot(x=df_rev['revenue'], ax=ax[0])\n",
    "ax[1].set_title('Revenue Log')\n",
    "sns.histplot(x=df_rev_log['revenue'], ax=ax[1])"
   ],
   "id": "afcfc6218789563e",
   "outputs": [
    {
     "name": "stdout",
     "output_type": "stream",
     "text": [
      "-------- Original -----------\n"
     ]
    },
    {
     "data": {
      "text/plain": [
       "           count          mean           std       min           25%  \\\n",
       "revenue  18761.0  1.960506e+12  1.098396e+13  726643.1  7.247256e+10   \n",
       "\n",
       "                  50%           75%           max  skewness  kurtosis  \n",
       "revenue  2.417693e+11  9.353446e+11  3.810080e+14   18.2543  423.6201  "
      ],
      "text/html": [
       "<div>\n",
       "<style scoped>\n",
       "    .dataframe tbody tr th:only-of-type {\n",
       "        vertical-align: middle;\n",
       "    }\n",
       "\n",
       "    .dataframe tbody tr th {\n",
       "        vertical-align: top;\n",
       "    }\n",
       "\n",
       "    .dataframe thead th {\n",
       "        text-align: right;\n",
       "    }\n",
       "</style>\n",
       "<table border=\"1\" class=\"dataframe\">\n",
       "  <thead>\n",
       "    <tr style=\"text-align: right;\">\n",
       "      <th></th>\n",
       "      <th>count</th>\n",
       "      <th>mean</th>\n",
       "      <th>std</th>\n",
       "      <th>min</th>\n",
       "      <th>25%</th>\n",
       "      <th>50%</th>\n",
       "      <th>75%</th>\n",
       "      <th>max</th>\n",
       "      <th>skewness</th>\n",
       "      <th>kurtosis</th>\n",
       "    </tr>\n",
       "  </thead>\n",
       "  <tbody>\n",
       "    <tr>\n",
       "      <th>revenue</th>\n",
       "      <td>18761.0</td>\n",
       "      <td>1.960506e+12</td>\n",
       "      <td>1.098396e+13</td>\n",
       "      <td>726643.1</td>\n",
       "      <td>7.247256e+10</td>\n",
       "      <td>2.417693e+11</td>\n",
       "      <td>9.353446e+11</td>\n",
       "      <td>3.810080e+14</td>\n",
       "      <td>18.2543</td>\n",
       "      <td>423.6201</td>\n",
       "    </tr>\n",
       "  </tbody>\n",
       "</table>\n",
       "</div>"
      ]
     },
     "metadata": {},
     "output_type": "display_data"
    },
    {
     "name": "stdout",
     "output_type": "stream",
     "text": [
      "------- Log scaled ------------\n"
     ]
    },
    {
     "data": {
      "text/plain": [
       "           count     mean     std      min      25%      50%      75%  \\\n",
       "revenue  18761.0  26.2645  2.0033  13.4962  25.0065  26.2112  27.5642   \n",
       "\n",
       "             max  skewness  kurtosis  \n",
       "revenue  33.5738   -0.1356    0.8246  "
      ],
      "text/html": [
       "<div>\n",
       "<style scoped>\n",
       "    .dataframe tbody tr th:only-of-type {\n",
       "        vertical-align: middle;\n",
       "    }\n",
       "\n",
       "    .dataframe tbody tr th {\n",
       "        vertical-align: top;\n",
       "    }\n",
       "\n",
       "    .dataframe thead th {\n",
       "        text-align: right;\n",
       "    }\n",
       "</style>\n",
       "<table border=\"1\" class=\"dataframe\">\n",
       "  <thead>\n",
       "    <tr style=\"text-align: right;\">\n",
       "      <th></th>\n",
       "      <th>count</th>\n",
       "      <th>mean</th>\n",
       "      <th>std</th>\n",
       "      <th>min</th>\n",
       "      <th>25%</th>\n",
       "      <th>50%</th>\n",
       "      <th>75%</th>\n",
       "      <th>max</th>\n",
       "      <th>skewness</th>\n",
       "      <th>kurtosis</th>\n",
       "    </tr>\n",
       "  </thead>\n",
       "  <tbody>\n",
       "    <tr>\n",
       "      <th>revenue</th>\n",
       "      <td>18761.0</td>\n",
       "      <td>26.2645</td>\n",
       "      <td>2.0033</td>\n",
       "      <td>13.4962</td>\n",
       "      <td>25.0065</td>\n",
       "      <td>26.2112</td>\n",
       "      <td>27.5642</td>\n",
       "      <td>33.5738</td>\n",
       "      <td>-0.1356</td>\n",
       "      <td>0.8246</td>\n",
       "    </tr>\n",
       "  </tbody>\n",
       "</table>\n",
       "</div>"
      ]
     },
     "metadata": {},
     "output_type": "display_data"
    },
    {
     "data": {
      "text/plain": [
       "<Axes: title={'center': 'Revenue Log'}, xlabel='revenue', ylabel='Count'>"
      ]
     },
     "execution_count": 18,
     "metadata": {},
     "output_type": "execute_result"
    },
    {
     "data": {
      "text/plain": [
       "<Figure size 1000x400 with 2 Axes>"
      ],
      "image/png": "[encoded data removed]"
     },
     "metadata": {},
     "output_type": "display_data"
    }
   ],
   "execution_count": 18
  },
  {
   "metadata": {},
   "cell_type": "markdown",
   "source": [
    "VALUE ADD:\n",
    "+ 43 companies have no value_added, contributing mostly to the skewness of 3 of the transformed data\n",
    "+ However, the main part is still normal dist"
   ],
   "id": "815b72fb30a8b779"
  },
  {
   "metadata": {
    "ExecuteTime": {
     "end_time": "2025-08-16T08:51:54.030511Z",
     "start_time": "2025-08-16T08:51:48.904498Z"
    }
   },
   "cell_type": "code",
   "source": [
    "# Value added\n",
    "df_valad = df_rev.copy()\n",
    "df_valad['value_add'] = df_valad['revenue'] -df_valad['cogs'] -df_valad['sales_cost'] -df_valad['admin_cost']\n",
    "df_valad.drop(columns = ['revenue', 'cogs', 'sales_cost', 'admin_cost'], inplace=True)\n",
    "\n",
    "print('-------- Original -----------')\n",
    "display(eda_describe(df_valad.drop(columns='year'))[-1:])\n",
    "print('------- Log scaled ------------')\n",
    "df_valad_log = df_valad.copy()\n",
    "df_valad_log['value_add'] = df_valad_log['value_add'].apply(\n",
    "    lambda x: np.log(x+1) if x > 0 else np.log(1)\n",
    ")\n",
    "display(eda_describe(df_valad_log.drop(columns='year'))[-1:])\n",
    "    # Chart\n",
    "f, ax = plt.subplots(1,2, figsize=(10,4))\n",
    "ax[0].set_title('Value Add Origin')\n",
    "ax[0].set_ylim(top=200)\n",
    "sns.histplot(x=df_valad['value_add'], ax=ax[0])\n",
    "ax[1].set_title('Value Add Log')\n",
    "sns.histplot(x=df_valad_log['value_add'], ax=ax[1])"
   ],
   "id": "e7b0df819d6925c",
   "outputs": [
    {
     "name": "stdout",
     "output_type": "stream",
     "text": [
      "-------- Original -----------\n"
     ]
    },
    {
     "data": {
      "text/plain": [
       "             count          mean           std           min           25%  \\\n",
       "value_add  18757.0  3.421037e+12  1.917077e+13 -1.911144e+11  1.360287e+11   \n",
       "\n",
       "                    50%           75%           max  skewness  kurtosis  \n",
       "value_add  4.546012e+11  1.744975e+12  6.069065e+14   17.8876  411.2018  "
      ],
      "text/html": [
       "<div>\n",
       "<style scoped>\n",
       "    .dataframe tbody tr th:only-of-type {\n",
       "        vertical-align: middle;\n",
       "    }\n",
       "\n",
       "    .dataframe tbody tr th {\n",
       "        vertical-align: top;\n",
       "    }\n",
       "\n",
       "    .dataframe thead th {\n",
       "        text-align: right;\n",
       "    }\n",
       "</style>\n",
       "<table border=\"1\" class=\"dataframe\">\n",
       "  <thead>\n",
       "    <tr style=\"text-align: right;\">\n",
       "      <th></th>\n",
       "      <th>count</th>\n",
       "      <th>mean</th>\n",
       "      <th>std</th>\n",
       "      <th>min</th>\n",
       "      <th>25%</th>\n",
       "      <th>50%</th>\n",
       "      <th>75%</th>\n",
       "      <th>max</th>\n",
       "      <th>skewness</th>\n",
       "      <th>kurtosis</th>\n",
       "    </tr>\n",
       "  </thead>\n",
       "  <tbody>\n",
       "    <tr>\n",
       "      <th>value_add</th>\n",
       "      <td>18757.0</td>\n",
       "      <td>3.421037e+12</td>\n",
       "      <td>1.917077e+13</td>\n",
       "      <td>-1.911144e+11</td>\n",
       "      <td>1.360287e+11</td>\n",
       "      <td>4.546012e+11</td>\n",
       "      <td>1.744975e+12</td>\n",
       "      <td>6.069065e+14</td>\n",
       "      <td>17.8876</td>\n",
       "      <td>411.2018</td>\n",
       "    </tr>\n",
       "  </tbody>\n",
       "</table>\n",
       "</div>"
      ]
     },
     "metadata": {},
     "output_type": "display_data"
    },
    {
     "name": "stdout",
     "output_type": "stream",
     "text": [
      "------- Log scaled ------------\n"
     ]
    },
    {
     "data": {
      "text/plain": [
       "             count     mean     std  min      25%      50%      75%      max  \\\n",
       "value_add  18761.0  26.8103  2.3686  0.0  25.6351  26.8424  28.1874  34.0394   \n",
       "\n",
       "           skewness  kurtosis  \n",
       "value_add   -3.6224   39.7531  "
      ],
      "text/html": [
       "<div>\n",
       "<style scoped>\n",
       "    .dataframe tbody tr th:only-of-type {\n",
       "        vertical-align: middle;\n",
       "    }\n",
       "\n",
       "    .dataframe tbody tr th {\n",
       "        vertical-align: top;\n",
       "    }\n",
       "\n",
       "    .dataframe thead th {\n",
       "        text-align: right;\n",
       "    }\n",
       "</style>\n",
       "<table border=\"1\" class=\"dataframe\">\n",
       "  <thead>\n",
       "    <tr style=\"text-align: right;\">\n",
       "      <th></th>\n",
       "      <th>count</th>\n",
       "      <th>mean</th>\n",
       "      <th>std</th>\n",
       "      <th>min</th>\n",
       "      <th>25%</th>\n",
       "      <th>50%</th>\n",
       "      <th>75%</th>\n",
       "      <th>max</th>\n",
       "      <th>skewness</th>\n",
       "      <th>kurtosis</th>\n",
       "    </tr>\n",
       "  </thead>\n",
       "  <tbody>\n",
       "    <tr>\n",
       "      <th>value_add</th>\n",
       "      <td>18761.0</td>\n",
       "      <td>26.8103</td>\n",
       "      <td>2.3686</td>\n",
       "      <td>0.0</td>\n",
       "      <td>25.6351</td>\n",
       "      <td>26.8424</td>\n",
       "      <td>28.1874</td>\n",
       "      <td>34.0394</td>\n",
       "      <td>-3.6224</td>\n",
       "      <td>39.7531</td>\n",
       "    </tr>\n",
       "  </tbody>\n",
       "</table>\n",
       "</div>"
      ]
     },
     "metadata": {},
     "output_type": "display_data"
    },
    {
     "data": {
      "text/plain": [
       "<Axes: title={'center': 'Value Add Log'}, xlabel='value_add', ylabel='Count'>"
      ]
     },
     "execution_count": 21,
     "metadata": {},
     "output_type": "execute_result"
    },
    {
     "data": {
      "text/plain": [
       "<Figure size 1000x400 with 2 Axes>"
      ],
      "image/png": "[encoded data removed]"
     },
     "metadata": {},
     "output_type": "display_data"
    }
   ],
   "execution_count": 21
  },
  {
   "metadata": {},
   "cell_type": "markdown",
   "source": [
    "ROA, ROE, ROIC, ROCE:\n",
    "+ Since mean and median of these metric are close, the data is likely symetric (though skew might be high)\n",
    "+ SO no transformation needed"
   ],
   "id": "4d46bd4921588306"
  },
  {
   "metadata": {
    "ExecuteTime": {
     "end_time": "2025-08-16T09:00:15.115381Z",
     "start_time": "2025-08-16T09:00:15.024687Z"
    }
   },
   "cell_type": "code",
   "source": [
    "# roa roe roic roce\n",
    "df_roa = df_raw_deflator.drop(columns=['ebitda', 'net_op_profit','roe', 'roic', 'roce', 'revenue'])\n",
    "df_roe = df_raw_deflator.drop(columns=['ebitda', 'net_op_profit','roa', 'roic', 'roce', 'revenue'])\n",
    "df_roic = df_raw_deflator.drop(columns=['ebitda', 'net_op_profit','roe', 'roa', 'roce', 'revenue'])\n",
    "df_roce = df_raw_deflator.drop(columns=['ebitda', 'net_op_profit','roe', 'roa', 'roic', 'revenue'])\n",
    "\n",
    "# Describe\n",
    "print('-------- ROA -----------')\n",
    "display(eda_describe(df_roa[['roa']]))\n",
    "print('-------- ROE -----------')\n",
    "display(eda_describe(df_roe[['roe']]))\n",
    "print('-------- ROIC -----------')\n",
    "display(eda_describe(df_roic[['roic']]))\n",
    "print('-------- ROCE -----------')\n",
    "display(eda_describe(df_roce[['roce']]))"
   ],
   "id": "6d45bae030ae8945",
   "outputs": [
    {
     "name": "stdout",
     "output_type": "stream",
     "text": [
      "-------- ROA -----------\n"
     ]
    },
    {
     "data": {
      "text/plain": [
       "       count    mean     std     min     25%     50%     75%     max  \\\n",
       "roa  19080.0  0.0343  0.1528 -9.5844  0.0019  0.0264  0.0695  4.5785   \n",
       "\n",
       "     skewness   kurtosis  \n",
       "roa  -20.6086  1172.7049  "
      ],
      "text/html": [
       "<div>\n",
       "<style scoped>\n",
       "    .dataframe tbody tr th:only-of-type {\n",
       "        vertical-align: middle;\n",
       "    }\n",
       "\n",
       "    .dataframe tbody tr th {\n",
       "        vertical-align: top;\n",
       "    }\n",
       "\n",
       "    .dataframe thead th {\n",
       "        text-align: right;\n",
       "    }\n",
       "</style>\n",
       "<table border=\"1\" class=\"dataframe\">\n",
       "  <thead>\n",
       "    <tr style=\"text-align: right;\">\n",
       "      <th></th>\n",
       "      <th>count</th>\n",
       "      <th>mean</th>\n",
       "      <th>std</th>\n",
       "      <th>min</th>\n",
       "      <th>25%</th>\n",
       "      <th>50%</th>\n",
       "      <th>75%</th>\n",
       "      <th>max</th>\n",
       "      <th>skewness</th>\n",
       "      <th>kurtosis</th>\n",
       "    </tr>\n",
       "  </thead>\n",
       "  <tbody>\n",
       "    <tr>\n",
       "      <th>roa</th>\n",
       "      <td>19080.0</td>\n",
       "      <td>0.0343</td>\n",
       "      <td>0.1528</td>\n",
       "      <td>-9.5844</td>\n",
       "      <td>0.0019</td>\n",
       "      <td>0.0264</td>\n",
       "      <td>0.0695</td>\n",
       "      <td>4.5785</td>\n",
       "      <td>-20.6086</td>\n",
       "      <td>1172.7049</td>\n",
       "    </tr>\n",
       "  </tbody>\n",
       "</table>\n",
       "</div>"
      ]
     },
     "metadata": {},
     "output_type": "display_data"
    },
    {
     "name": "stdout",
     "output_type": "stream",
     "text": [
      "-------- ROE -----------\n"
     ]
    },
    {
     "data": {
      "text/plain": [
       "       count    mean     std      min     25%     50%    75%       max  \\\n",
       "roe  19080.0  0.0973  1.6631 -60.7224  0.0087  0.0716  0.155  111.7216   \n",
       "\n",
       "     skewness   kurtosis  \n",
       "roe   20.7107  1877.2417  "
      ],
      "text/html": [
       "<div>\n",
       "<style scoped>\n",
       "    .dataframe tbody tr th:only-of-type {\n",
       "        vertical-align: middle;\n",
       "    }\n",
       "\n",
       "    .dataframe tbody tr th {\n",
       "        vertical-align: top;\n",
       "    }\n",
       "\n",
       "    .dataframe thead th {\n",
       "        text-align: right;\n",
       "    }\n",
       "</style>\n",
       "<table border=\"1\" class=\"dataframe\">\n",
       "  <thead>\n",
       "    <tr style=\"text-align: right;\">\n",
       "      <th></th>\n",
       "      <th>count</th>\n",
       "      <th>mean</th>\n",
       "      <th>std</th>\n",
       "      <th>min</th>\n",
       "      <th>25%</th>\n",
       "      <th>50%</th>\n",
       "      <th>75%</th>\n",
       "      <th>max</th>\n",
       "      <th>skewness</th>\n",
       "      <th>kurtosis</th>\n",
       "    </tr>\n",
       "  </thead>\n",
       "  <tbody>\n",
       "    <tr>\n",
       "      <th>roe</th>\n",
       "      <td>19080.0</td>\n",
       "      <td>0.0973</td>\n",
       "      <td>1.6631</td>\n",
       "      <td>-60.7224</td>\n",
       "      <td>0.0087</td>\n",
       "      <td>0.0716</td>\n",
       "      <td>0.155</td>\n",
       "      <td>111.7216</td>\n",
       "      <td>20.7107</td>\n",
       "      <td>1877.2417</td>\n",
       "    </tr>\n",
       "  </tbody>\n",
       "</table>\n",
       "</div>"
      ]
     },
     "metadata": {},
     "output_type": "display_data"
    },
    {
     "name": "stdout",
     "output_type": "stream",
     "text": [
      "-------- ROIC -----------\n"
     ]
    },
    {
     "data": {
      "text/plain": [
       "        count    mean     std       min  25%     50%     75%       max  \\\n",
       "roic  19080.0  0.0472  4.7567 -552.8697  0.0  0.0479  0.1161  262.7942   \n",
       "\n",
       "      skewness   kurtosis  \n",
       "roic  -73.5527  10088.101  "
      ],
      "text/html": [
       "<div>\n",
       "<style scoped>\n",
       "    .dataframe tbody tr th:only-of-type {\n",
       "        vertical-align: middle;\n",
       "    }\n",
       "\n",
       "    .dataframe tbody tr th {\n",
       "        vertical-align: top;\n",
       "    }\n",
       "\n",
       "    .dataframe thead th {\n",
       "        text-align: right;\n",
       "    }\n",
       "</style>\n",
       "<table border=\"1\" class=\"dataframe\">\n",
       "  <thead>\n",
       "    <tr style=\"text-align: right;\">\n",
       "      <th></th>\n",
       "      <th>count</th>\n",
       "      <th>mean</th>\n",
       "      <th>std</th>\n",
       "      <th>min</th>\n",
       "      <th>25%</th>\n",
       "      <th>50%</th>\n",
       "      <th>75%</th>\n",
       "      <th>max</th>\n",
       "      <th>skewness</th>\n",
       "      <th>kurtosis</th>\n",
       "    </tr>\n",
       "  </thead>\n",
       "  <tbody>\n",
       "    <tr>\n",
       "      <th>roic</th>\n",
       "      <td>19080.0</td>\n",
       "      <td>0.0472</td>\n",
       "      <td>4.7567</td>\n",
       "      <td>-552.8697</td>\n",
       "      <td>0.0</td>\n",
       "      <td>0.0479</td>\n",
       "      <td>0.1161</td>\n",
       "      <td>262.7942</td>\n",
       "      <td>-73.5527</td>\n",
       "      <td>10088.101</td>\n",
       "    </tr>\n",
       "  </tbody>\n",
       "</table>\n",
       "</div>"
      ]
     },
     "metadata": {},
     "output_type": "display_data"
    },
    {
     "name": "stdout",
     "output_type": "stream",
     "text": [
      "-------- ROCE -----------\n"
     ]
    },
    {
     "data": {
      "text/plain": [
       "        count    mean     std      min     25%     50%     75%      max  \\\n",
       "roce  19080.0  0.0959  1.3622 -59.4495  0.0029  0.0712  0.1606  160.676   \n",
       "\n",
       "      skewness    kurtosis  \n",
       "roce   81.4723  10338.7582  "
      ],
      "text/html": [
       "<div>\n",
       "<style scoped>\n",
       "    .dataframe tbody tr th:only-of-type {\n",
       "        vertical-align: middle;\n",
       "    }\n",
       "\n",
       "    .dataframe tbody tr th {\n",
       "        vertical-align: top;\n",
       "    }\n",
       "\n",
       "    .dataframe thead th {\n",
       "        text-align: right;\n",
       "    }\n",
       "</style>\n",
       "<table border=\"1\" class=\"dataframe\">\n",
       "  <thead>\n",
       "    <tr style=\"text-align: right;\">\n",
       "      <th></th>\n",
       "      <th>count</th>\n",
       "      <th>mean</th>\n",
       "      <th>std</th>\n",
       "      <th>min</th>\n",
       "      <th>25%</th>\n",
       "      <th>50%</th>\n",
       "      <th>75%</th>\n",
       "      <th>max</th>\n",
       "      <th>skewness</th>\n",
       "      <th>kurtosis</th>\n",
       "    </tr>\n",
       "  </thead>\n",
       "  <tbody>\n",
       "    <tr>\n",
       "      <th>roce</th>\n",
       "      <td>19080.0</td>\n",
       "      <td>0.0959</td>\n",
       "      <td>1.3622</td>\n",
       "      <td>-59.4495</td>\n",
       "      <td>0.0029</td>\n",
       "      <td>0.0712</td>\n",
       "      <td>0.1606</td>\n",
       "      <td>160.676</td>\n",
       "      <td>81.4723</td>\n",
       "      <td>10338.7582</td>\n",
       "    </tr>\n",
       "  </tbody>\n",
       "</table>\n",
       "</div>"
      ]
     },
     "metadata": {},
     "output_type": "display_data"
    }
   ],
   "execution_count": 23
  }
 ],
 "metadata": {
  "kernelspec": {
   "display_name": "Python 3",
   "language": "python",
   "name": "python3"
  },
  "language_info": {
   "codemirror_mode": {
    "name": "ipython",
    "version": 2
   },
   "file_extension": ".py",
   "mimetype": "text/x-python",
   "name": "python",
   "nbconvert_exporter": "python",
   "pygments_lexer": "ipython2",
   "version": "2.7.6"
  }
 },
 "nbformat": 4,
 "nbformat_minor": 5
}
