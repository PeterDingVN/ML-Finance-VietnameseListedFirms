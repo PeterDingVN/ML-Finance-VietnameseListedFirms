{
 "cells": [
  {
   "metadata": {},
   "cell_type": "markdown",
   "source": "# Import lib",
   "id": "cdd072b453019943"
  },
  {
   "metadata": {
    "ExecuteTime": {
     "end_time": "2025-08-17T08:49:13.970754Z",
     "start_time": "2025-08-17T08:49:13.964496Z"
    }
   },
   "cell_type": "code",
   "source": [
    "import pandas as pd\n",
    "\n",
    "from utils import *\n",
    "from utils import eda_describe, select_data, impute"
   ],
   "id": "271f1e584fbcca4f",
   "outputs": [],
   "execution_count": 9
  },
  {
   "metadata": {},
   "cell_type": "markdown",
   "source": "# Dataset",
   "id": "734be83be0be751e"
  },
  {
   "metadata": {},
   "cell_type": "markdown",
   "source": "## raw input",
   "id": "68040d0aa9e2f333"
  },
  {
   "metadata": {},
   "cell_type": "markdown",
   "source": "Raw data",
   "id": "6796cd3f311d0237"
  },
  {
   "metadata": {
    "ExecuteTime": {
     "end_time": "2025-08-17T08:49:14.152564Z",
     "start_time": "2025-08-17T08:49:14.035442Z"
    }
   },
   "cell_type": "code",
   "source": [
    "# Load and preprocess\n",
    "# Load\n",
    "df = pd.read_csv(r'Dataset/dataset.csv')\n",
    "\n",
    "# Preprocess\n",
    "df = df[df['company'].isna()==False]\n",
    "df.drop(columns = ['platform'], inplace=True)\n",
    "\n",
    "    # Standardize cost\n",
    "df[['cogs', 'sales_cost', 'admin_cost']] = df[['cogs', 'sales_cost', 'admin_cost']].apply(\n",
    "    lambda x: abs(x)\n",
    ")\n",
    "\n",
    "    # for_own/gov_own -> dummy var (0 or null -> 0; else -> 1)\n",
    "df[['for_own', 'gov_own']] = df[['for_own', 'gov_own']].fillna(0)\n",
    "df['for_own'] = df['for_own'].apply(\n",
    "    lambda x: 0 if x == 0  else 1)\n",
    "df['gov_own'] = df['gov_own'].apply(\n",
    "    lambda x: 0 if x == 0  else 1)\n",
    "\n",
    "    ## ----- Data prescaled ------- ##\n",
    "df_raw = df.copy()\n",
    "df_raw.sort_values(by=['company', 'year'], ascending=True, inplace=True)"
   ],
   "id": "8964485da3aed0fb",
   "outputs": [],
   "execution_count": 10
  },
  {
   "metadata": {},
   "cell_type": "markdown",
   "source": "To better reflect the value of the data, I scaled all vars based on GDP deflator of year 2010 for all vars (except percentage based vars)",
   "id": "e4898b37260aadb"
  },
  {
   "metadata": {
    "ExecuteTime": {
     "end_time": "2025-08-17T08:49:14.180492Z",
     "start_time": "2025-08-17T08:49:14.156690Z"
    }
   },
   "cell_type": "code",
   "source": [
    "# Scaled data to GDP deflator 2010\n",
    "df_raw_deflator = df_raw.copy()\n",
    "df_raw_deflator['deflator_scaled'] = df_raw_deflator['year'].map(\n",
    "    {2015: 0.71, 2016: 0.70, 2017: 0.67,2018: 0.65,2019: 0.63,2020: 0.62,2021: 0.60,2022: 0.58,2023: 0.57,2024: 0.54})\n",
    "\n",
    "# Scaled\n",
    "df_raw_deflator[['ebitda', 'revenue', 'cogs', 'sales_cost',\n",
    "       'admin_cost', 'net_op_profit', 'short_receive', 'in_stock',\n",
    "       'invest_nav', 'long_receive', 'long_liability', 'short_liability',\n",
    "       'cash', 'fixed_asset', 'other_long_asset', 'cwip', 'other_short_asset',\n",
    "       'long_invest', 'equity_fund', 'other_fund', 'market_cap', 'ev']] = \\\n",
    "df_raw_deflator[['ebitda', 'revenue', 'cogs', 'sales_cost',\n",
    "       'admin_cost', 'net_op_profit', 'short_receive', 'in_stock',\n",
    "       'invest_nav', 'long_receive', 'long_liability', 'short_liability',\n",
    "       'cash', 'fixed_asset', 'other_long_asset', 'cwip', 'other_short_asset',\n",
    "       'long_invest', 'equity_fund', 'other_fund', 'market_cap', 'ev']].apply(lambda x:\n",
    "                                                                        x*df_raw_deflator['deflator_scaled'])\n",
    "\n",
    "# drop the scaler\n",
    "df_raw_deflator.drop(columns='deflator_scaled', inplace=True)"
   ],
   "id": "ce740feea47e63b4",
   "outputs": [],
   "execution_count": 11
  },
  {
   "metadata": {},
   "cell_type": "markdown",
   "source": [
    "Comment:\n",
    "- Target variable (outcome): ebitda dummy, revenue, roa, roe, roic, roce, value_added (see vars_used.txt file for details)\n",
    "- As raw input, all the rest vars are used as features"
   ],
   "id": "a46ba9bf644b852a"
  },
  {
   "metadata": {},
   "cell_type": "markdown",
   "source": "## target var eda",
   "id": "7386f93ff51a2adf"
  },
  {
   "metadata": {},
   "cell_type": "markdown",
   "source": "REGRESSION PROBLEM",
   "id": "796eddcf2ee7e03e"
  },
  {
   "metadata": {},
   "cell_type": "markdown",
   "source": [
    "REVENUE:\n",
    "+ After applying log, skew and kurtosis of revenue decreases -> good\n",
    "+ The distribution of revenue turns into normal dist"
   ],
   "id": "50a33ab3e0b6ea4b"
  },
  {
   "metadata": {
    "ExecuteTime": {
     "end_time": "2025-08-17T08:49:18.945149Z",
     "start_time": "2025-08-17T08:49:14.304112Z"
    }
   },
   "cell_type": "code",
   "source": [
    "# Revenue\n",
    "df_rev = df_raw_deflator.drop(columns=['ebitda', 'net_op_profit', 'roa','roe', 'roic', 'roce'])\n",
    "  # Filter for rev > 0\n",
    "df_rev = df_rev[df_rev['revenue']>0]\n",
    "print('-------- Original -----------')\n",
    "display(eda_describe(df_rev.drop(columns='year'))[:1])\n",
    "print('------- Log scaled ------------')\n",
    "df_rev_log = df_rev.copy()\n",
    "df_rev_log['revenue'] = df_rev_log['revenue'].apply(lambda x: np.log(x))\n",
    "display(eda_describe(df_rev_log.drop(columns='year'))[:1])\n",
    "    # Chart\n",
    "f, ax = plt.subplots(1,2, figsize=(10,4))\n",
    "ax[0].set_title('Revenue Origin')\n",
    "ax[0].set_ylim(top=200)\n",
    "sns.histplot(x=df_rev['revenue'], ax=ax[0])\n",
    "ax[1].set_title('Revenue Log')\n",
    "sns.histplot(x=df_rev_log['revenue'], ax=ax[1])"
   ],
   "id": "afcfc6218789563e",
   "outputs": [
    {
     "name": "stdout",
     "output_type": "stream",
     "text": [
      "-------- Original -----------\n"
     ]
    },
    {
     "data": {
      "text/plain": [
       "           count          mean           std       min           25%  \\\n",
       "revenue  18761.0  1.960506e+12  1.098396e+13  726643.1  7.247256e+10   \n",
       "\n",
       "                  50%           75%           max  skewness  kurtosis  \n",
       "revenue  2.417693e+11  9.353446e+11  3.810080e+14   18.2543  423.6201  "
      ],
      "text/html": [
       "<div>\n",
       "<style scoped>\n",
       "    .dataframe tbody tr th:only-of-type {\n",
       "        vertical-align: middle;\n",
       "    }\n",
       "\n",
       "    .dataframe tbody tr th {\n",
       "        vertical-align: top;\n",
       "    }\n",
       "\n",
       "    .dataframe thead th {\n",
       "        text-align: right;\n",
       "    }\n",
       "</style>\n",
       "<table border=\"1\" class=\"dataframe\">\n",
       "  <thead>\n",
       "    <tr style=\"text-align: right;\">\n",
       "      <th></th>\n",
       "      <th>count</th>\n",
       "      <th>mean</th>\n",
       "      <th>std</th>\n",
       "      <th>min</th>\n",
       "      <th>25%</th>\n",
       "      <th>50%</th>\n",
       "      <th>75%</th>\n",
       "      <th>max</th>\n",
       "      <th>skewness</th>\n",
       "      <th>kurtosis</th>\n",
       "    </tr>\n",
       "  </thead>\n",
       "  <tbody>\n",
       "    <tr>\n",
       "      <th>revenue</th>\n",
       "      <td>18761.0</td>\n",
       "      <td>1.960506e+12</td>\n",
       "      <td>1.098396e+13</td>\n",
       "      <td>726643.1</td>\n",
       "      <td>7.247256e+10</td>\n",
       "      <td>2.417693e+11</td>\n",
       "      <td>9.353446e+11</td>\n",
       "      <td>3.810080e+14</td>\n",
       "      <td>18.2543</td>\n",
       "      <td>423.6201</td>\n",
       "    </tr>\n",
       "  </tbody>\n",
       "</table>\n",
       "</div>"
      ]
     },
     "metadata": {},
     "output_type": "display_data"
    },
    {
     "name": "stdout",
     "output_type": "stream",
     "text": [
      "------- Log scaled ------------\n"
     ]
    },
    {
     "data": {
      "text/plain": [
       "           count     mean     std      min      25%      50%      75%  \\\n",
       "revenue  18761.0  26.2645  2.0033  13.4962  25.0065  26.2112  27.5642   \n",
       "\n",
       "             max  skewness  kurtosis  \n",
       "revenue  33.5738   -0.1356    0.8246  "
      ],
      "text/html": [
       "<div>\n",
       "<style scoped>\n",
       "    .dataframe tbody tr th:only-of-type {\n",
       "        vertical-align: middle;\n",
       "    }\n",
       "\n",
       "    .dataframe tbody tr th {\n",
       "        vertical-align: top;\n",
       "    }\n",
       "\n",
       "    .dataframe thead th {\n",
       "        text-align: right;\n",
       "    }\n",
       "</style>\n",
       "<table border=\"1\" class=\"dataframe\">\n",
       "  <thead>\n",
       "    <tr style=\"text-align: right;\">\n",
       "      <th></th>\n",
       "      <th>count</th>\n",
       "      <th>mean</th>\n",
       "      <th>std</th>\n",
       "      <th>min</th>\n",
       "      <th>25%</th>\n",
       "      <th>50%</th>\n",
       "      <th>75%</th>\n",
       "      <th>max</th>\n",
       "      <th>skewness</th>\n",
       "      <th>kurtosis</th>\n",
       "    </tr>\n",
       "  </thead>\n",
       "  <tbody>\n",
       "    <tr>\n",
       "      <th>revenue</th>\n",
       "      <td>18761.0</td>\n",
       "      <td>26.2645</td>\n",
       "      <td>2.0033</td>\n",
       "      <td>13.4962</td>\n",
       "      <td>25.0065</td>\n",
       "      <td>26.2112</td>\n",
       "      <td>27.5642</td>\n",
       "      <td>33.5738</td>\n",
       "      <td>-0.1356</td>\n",
       "      <td>0.8246</td>\n",
       "    </tr>\n",
       "  </tbody>\n",
       "</table>\n",
       "</div>"
      ]
     },
     "metadata": {},
     "output_type": "display_data"
    },
    {
     "data": {
      "text/plain": [
       "<Axes: title={'center': 'Revenue Log'}, xlabel='revenue', ylabel='Count'>"
      ]
     },
     "execution_count": 12,
     "metadata": {},
     "output_type": "execute_result"
    },
    {
     "data": {
      "text/plain": [
       "<Figure size 1000x400 with 2 Axes>"
      ],
      "image/png": "[encoded data removed]"
     },
     "metadata": {},
     "output_type": "display_data"
    }
   ],
   "execution_count": 12
  },
  {
   "metadata": {},
   "cell_type": "markdown",
   "source": [
    "VALUE ADD:\n",
    "+ 43 companies have no value_added, contributing mostly to the skewness of 3 of the transformed data\n",
    "+ However, the main part is still normal dist"
   ],
   "id": "815b72fb30a8b779"
  },
  {
   "metadata": {},
   "cell_type": "markdown",
   "source": [
    "ROA, ROE, ROIC, ROCE:\n",
    "+ Since mean and median of these metric are close, the data is likely symetric (though skew might be high)\n",
    "+ SO no transformation needed"
   ],
   "id": "4d46bd4921588306"
  },
  {
   "metadata": {
    "ExecuteTime": {
     "end_time": "2025-08-17T08:49:19.107564Z",
     "start_time": "2025-08-17T08:49:19.016356Z"
    }
   },
   "cell_type": "code",
   "source": [
    "# roa roe roic roce\n",
    "df_roa = df_raw_deflator.drop(columns=['ebitda', 'net_op_profit','roe', 'roic', 'roce', 'revenue'])\n",
    "df_roe = df_raw_deflator.drop(columns=['ebitda', 'net_op_profit','roa', 'roic', 'roce', 'revenue'])\n",
    "df_roic = df_raw_deflator.drop(columns=['ebitda', 'net_op_profit','roe', 'roa', 'roce', 'revenue'])\n",
    "df_roce = df_raw_deflator.drop(columns=['ebitda', 'net_op_profit','roe', 'roa', 'roic', 'revenue'])\n",
    "\n",
    "# Describe\n",
    "print('-------- ROA -----------')\n",
    "display(eda_describe(df_roa[['roa']]))\n",
    "print('-------- ROE -----------')\n",
    "display(eda_describe(df_roe[['roe']]))\n",
    "print('-------- ROIC -----------')\n",
    "display(eda_describe(df_roic[['roic']]))\n",
    "print('-------- ROCE -----------')\n",
    "display(eda_describe(df_roce[['roce']]))"
   ],
   "id": "6d45bae030ae8945",
   "outputs": [
    {
     "name": "stdout",
     "output_type": "stream",
     "text": [
      "-------- ROA -----------\n"
     ]
    },
    {
     "data": {
      "text/plain": [
       "       count    mean     std     min     25%     50%     75%     max  \\\n",
       "roa  19080.0  0.0343  0.1528 -9.5844  0.0019  0.0264  0.0695  4.5785   \n",
       "\n",
       "     skewness   kurtosis  \n",
       "roa  -20.6086  1172.7049  "
      ],
      "text/html": [
       "<div>\n",
       "<style scoped>\n",
       "    .dataframe tbody tr th:only-of-type {\n",
       "        vertical-align: middle;\n",
       "    }\n",
       "\n",
       "    .dataframe tbody tr th {\n",
       "        vertical-align: top;\n",
       "    }\n",
       "\n",
       "    .dataframe thead th {\n",
       "        text-align: right;\n",
       "    }\n",
       "</style>\n",
       "<table border=\"1\" class=\"dataframe\">\n",
       "  <thead>\n",
       "    <tr style=\"text-align: right;\">\n",
       "      <th></th>\n",
       "      <th>count</th>\n",
       "      <th>mean</th>\n",
       "      <th>std</th>\n",
       "      <th>min</th>\n",
       "      <th>25%</th>\n",
       "      <th>50%</th>\n",
       "      <th>75%</th>\n",
       "      <th>max</th>\n",
       "      <th>skewness</th>\n",
       "      <th>kurtosis</th>\n",
       "    </tr>\n",
       "  </thead>\n",
       "  <tbody>\n",
       "    <tr>\n",
       "      <th>roa</th>\n",
       "      <td>19080.0</td>\n",
       "      <td>0.0343</td>\n",
       "      <td>0.1528</td>\n",
       "      <td>-9.5844</td>\n",
       "      <td>0.0019</td>\n",
       "      <td>0.0264</td>\n",
       "      <td>0.0695</td>\n",
       "      <td>4.5785</td>\n",
       "      <td>-20.6086</td>\n",
       "      <td>1172.7049</td>\n",
       "    </tr>\n",
       "  </tbody>\n",
       "</table>\n",
       "</div>"
      ]
     },
     "metadata": {},
     "output_type": "display_data"
    },
    {
     "name": "stdout",
     "output_type": "stream",
     "text": [
      "-------- ROE -----------\n"
     ]
    },
    {
     "data": {
      "text/plain": [
       "       count    mean     std      min     25%     50%    75%       max  \\\n",
       "roe  19080.0  0.0973  1.6631 -60.7224  0.0087  0.0716  0.155  111.7216   \n",
       "\n",
       "     skewness   kurtosis  \n",
       "roe   20.7107  1877.2417  "
      ],
      "text/html": [
       "<div>\n",
       "<style scoped>\n",
       "    .dataframe tbody tr th:only-of-type {\n",
       "        vertical-align: middle;\n",
       "    }\n",
       "\n",
       "    .dataframe tbody tr th {\n",
       "        vertical-align: top;\n",
       "    }\n",
       "\n",
       "    .dataframe thead th {\n",
       "        text-align: right;\n",
       "    }\n",
       "</style>\n",
       "<table border=\"1\" class=\"dataframe\">\n",
       "  <thead>\n",
       "    <tr style=\"text-align: right;\">\n",
       "      <th></th>\n",
       "      <th>count</th>\n",
       "      <th>mean</th>\n",
       "      <th>std</th>\n",
       "      <th>min</th>\n",
       "      <th>25%</th>\n",
       "      <th>50%</th>\n",
       "      <th>75%</th>\n",
       "      <th>max</th>\n",
       "      <th>skewness</th>\n",
       "      <th>kurtosis</th>\n",
       "    </tr>\n",
       "  </thead>\n",
       "  <tbody>\n",
       "    <tr>\n",
       "      <th>roe</th>\n",
       "      <td>19080.0</td>\n",
       "      <td>0.0973</td>\n",
       "      <td>1.6631</td>\n",
       "      <td>-60.7224</td>\n",
       "      <td>0.0087</td>\n",
       "      <td>0.0716</td>\n",
       "      <td>0.155</td>\n",
       "      <td>111.7216</td>\n",
       "      <td>20.7107</td>\n",
       "      <td>1877.2417</td>\n",
       "    </tr>\n",
       "  </tbody>\n",
       "</table>\n",
       "</div>"
      ]
     },
     "metadata": {},
     "output_type": "display_data"
    },
    {
     "name": "stdout",
     "output_type": "stream",
     "text": [
      "-------- ROIC -----------\n"
     ]
    },
    {
     "data": {
      "text/plain": [
       "        count    mean     std       min  25%     50%     75%       max  \\\n",
       "roic  19080.0  0.0472  4.7567 -552.8697  0.0  0.0479  0.1161  262.7942   \n",
       "\n",
       "      skewness   kurtosis  \n",
       "roic  -73.5527  10088.101  "
      ],
      "text/html": [
       "<div>\n",
       "<style scoped>\n",
       "    .dataframe tbody tr th:only-of-type {\n",
       "        vertical-align: middle;\n",
       "    }\n",
       "\n",
       "    .dataframe tbody tr th {\n",
       "        vertical-align: top;\n",
       "    }\n",
       "\n",
       "    .dataframe thead th {\n",
       "        text-align: right;\n",
       "    }\n",
       "</style>\n",
       "<table border=\"1\" class=\"dataframe\">\n",
       "  <thead>\n",
       "    <tr style=\"text-align: right;\">\n",
       "      <th></th>\n",
       "      <th>count</th>\n",
       "      <th>mean</th>\n",
       "      <th>std</th>\n",
       "      <th>min</th>\n",
       "      <th>25%</th>\n",
       "      <th>50%</th>\n",
       "      <th>75%</th>\n",
       "      <th>max</th>\n",
       "      <th>skewness</th>\n",
       "      <th>kurtosis</th>\n",
       "    </tr>\n",
       "  </thead>\n",
       "  <tbody>\n",
       "    <tr>\n",
       "      <th>roic</th>\n",
       "      <td>19080.0</td>\n",
       "      <td>0.0472</td>\n",
       "      <td>4.7567</td>\n",
       "      <td>-552.8697</td>\n",
       "      <td>0.0</td>\n",
       "      <td>0.0479</td>\n",
       "      <td>0.1161</td>\n",
       "      <td>262.7942</td>\n",
       "      <td>-73.5527</td>\n",
       "      <td>10088.101</td>\n",
       "    </tr>\n",
       "  </tbody>\n",
       "</table>\n",
       "</div>"
      ]
     },
     "metadata": {},
     "output_type": "display_data"
    },
    {
     "name": "stdout",
     "output_type": "stream",
     "text": [
      "-------- ROCE -----------\n"
     ]
    },
    {
     "data": {
      "text/plain": [
       "        count    mean     std      min     25%     50%     75%      max  \\\n",
       "roce  19080.0  0.0959  1.3622 -59.4495  0.0029  0.0712  0.1606  160.676   \n",
       "\n",
       "      skewness    kurtosis  \n",
       "roce   81.4723  10338.7582  "
      ],
      "text/html": [
       "<div>\n",
       "<style scoped>\n",
       "    .dataframe tbody tr th:only-of-type {\n",
       "        vertical-align: middle;\n",
       "    }\n",
       "\n",
       "    .dataframe tbody tr th {\n",
       "        vertical-align: top;\n",
       "    }\n",
       "\n",
       "    .dataframe thead th {\n",
       "        text-align: right;\n",
       "    }\n",
       "</style>\n",
       "<table border=\"1\" class=\"dataframe\">\n",
       "  <thead>\n",
       "    <tr style=\"text-align: right;\">\n",
       "      <th></th>\n",
       "      <th>count</th>\n",
       "      <th>mean</th>\n",
       "      <th>std</th>\n",
       "      <th>min</th>\n",
       "      <th>25%</th>\n",
       "      <th>50%</th>\n",
       "      <th>75%</th>\n",
       "      <th>max</th>\n",
       "      <th>skewness</th>\n",
       "      <th>kurtosis</th>\n",
       "    </tr>\n",
       "  </thead>\n",
       "  <tbody>\n",
       "    <tr>\n",
       "      <th>roce</th>\n",
       "      <td>19080.0</td>\n",
       "      <td>0.0959</td>\n",
       "      <td>1.3622</td>\n",
       "      <td>-59.4495</td>\n",
       "      <td>0.0029</td>\n",
       "      <td>0.0712</td>\n",
       "      <td>0.1606</td>\n",
       "      <td>160.676</td>\n",
       "      <td>81.4723</td>\n",
       "      <td>10338.7582</td>\n",
       "    </tr>\n",
       "  </tbody>\n",
       "</table>\n",
       "</div>"
      ]
     },
     "metadata": {},
     "output_type": "display_data"
    }
   ],
   "execution_count": 13
  },
  {
   "metadata": {},
   "cell_type": "markdown",
   "source": "CLASSIFICATION PROBLEM",
   "id": "f191fe1fd6dce867"
  },
  {
   "metadata": {},
   "cell_type": "markdown",
   "source": "VALUE-ADD",
   "id": "81ca69c15f81a28a"
  },
  {
   "metadata": {
    "ExecuteTime": {
     "end_time": "2025-08-17T08:49:19.382145Z",
     "start_time": "2025-08-17T08:49:19.355062Z"
    }
   },
   "cell_type": "code",
   "source": [
    "# Value added\n",
    "df_valad = df_rev.copy()\n",
    "df_valad['value_add'] = df_valad['revenue'] - df_valad['cogs'] - df_valad['sales_cost'] - df_valad['admin_cost']\n",
    "df_valad.drop(columns=['revenue', 'cogs', 'sales_cost', 'admin_cost'], inplace=True)\n",
    "df_valad['value_add'] = df_valad['value_add'].apply(lambda x: 1 if x > 0 else (0 if x <=0 else x))"
   ],
   "id": "794e7b6275326dd3",
   "outputs": [],
   "execution_count": 14
  },
  {
   "metadata": {},
   "cell_type": "markdown",
   "source": "EBITDA",
   "id": "a4240f8eb98436a7"
  },
  {
   "metadata": {
    "ExecuteTime": {
     "end_time": "2025-08-17T08:49:19.589680Z",
     "start_time": "2025-08-17T08:49:19.572590Z"
    }
   },
   "cell_type": "code",
   "source": [
    "# EBITDA\n",
    "df_ebitda = df_raw_deflator.drop(columns=['revenue', 'net_op_profit', 'roa','roe', 'roic', 'roce'])\n",
    "df_ebitda['ebitda'] = df_ebitda['ebitda'].apply(lambda x: 1 if x > 0 else (0 if x <=0 else x))"
   ],
   "id": "e590486d68445700",
   "outputs": [],
   "execution_count": 15
  },
  {
   "metadata": {},
   "cell_type": "markdown",
   "source": "## null treatment",
   "id": "bebf5553c86df150"
  },
  {
   "metadata": {},
   "cell_type": "markdown",
   "source": [
    "Comment:\n",
    "+ I have 6 target vars, equivalent to 6 different input dataset\n",
    "+ So I treat each seperately\n",
    "+ Rule: keep all companies that have data for at least 4 consecutive years, preserving temporal \\\n",
    "characteristic of the data\n",
    "+ For example: (2015,2016,2017 = invalid); (2015,2016,2017,2018 = valid); (2015,2016,2017,2019 = invalid)"
   ],
   "id": "91c2a75c1ad00329"
  },
  {
   "metadata": {},
   "cell_type": "markdown",
   "source": "SELECT DATA",
   "id": "736cb553434c12b6"
  },
  {
   "metadata": {
    "ExecuteTime": {
     "end_time": "2025-08-17T08:49:23.026464Z",
     "start_time": "2025-08-17T08:49:19.652929Z"
    }
   },
   "cell_type": "code",
   "source": [
    "# Revenue data\n",
    "df_revenue = select_data(df_rev_log.drop(columns = ['ev', 'market_cap'])) # drop systematic null cols\n",
    "\n",
    "# Value add\n",
    "df_value = select_data(df_valad.drop(columns = ['ev', 'market_cap']))\n",
    "\n",
    "# ROA\n",
    "df_roa = select_data(df_roa.drop(columns = ['ev', 'market_cap']))\n",
    "# ROE\n",
    "df_roe = select_data(df_roe.drop(columns = ['ev', 'market_cap']))\n",
    "# ROIC\n",
    "df_roic = select_data(df_roic.drop(columns = ['ev', 'market_cap']))\n",
    "# ROCE\n",
    "df_roce = select_data(df_roce.drop(columns = ['ev', 'market_cap']))\n"
   ],
   "id": "2aa7bd9d381ba43f",
   "outputs": [],
   "execution_count": 16
  },
  {
   "metadata": {},
   "cell_type": "markdown",
   "source": "IMPUTATION",
   "id": "b638e221ee5d904a"
  },
  {
   "metadata": {
    "ExecuteTime": {
     "end_time": "2025-08-17T10:59:50.626523Z",
     "start_time": "2025-08-17T10:59:50.574268Z"
    }
   },
   "cell_type": "code",
   "source": [
    "# Filled\n",
    "# Task 1: Add them df_ebitda o tren SELECT DATA\n",
    "# Task 2: Check df_value dung chua\n",
    "# Task 3: Finish impute nay\n",
    "df_revenue = impute(df_revenue)\n",
    "df_value = impute(df_value)\n"
   ],
   "id": "afe1e732efb2c293",
   "outputs": [
    {
     "data": {
      "text/plain": [
       "company               0\n",
       "year                  0\n",
       "cogs                 48\n",
       "sales_cost           49\n",
       "admin_cost           48\n",
       "short_receive         0\n",
       "in_stock              0\n",
       "invest_nav            1\n",
       "long_receive          0\n",
       "long_liability        0\n",
       "short_liability       0\n",
       "cash                  0\n",
       "fixed_asset           3\n",
       "other_long_asset      0\n",
       "cwip                  1\n",
       "other_short_asset     0\n",
       "long_invest           0\n",
       "equity_fund           0\n",
       "other_fund            1\n",
       "gov_own               0\n",
       "for_own               0\n",
       "roa                  60\n",
       "dtype: int64"
      ]
     },
     "execution_count": 56,
     "metadata": {},
     "output_type": "execute_result"
    }
   ],
   "execution_count": 56
  },
  {
   "metadata": {},
   "cell_type": "markdown",
   "source": "## feature vars eda",
   "id": "b118d5684bdd909a"
  }
 ],
 "metadata": {
  "kernelspec": {
   "display_name": "Python 3",
   "language": "python",
   "name": "python3"
  },
  "language_info": {
   "codemirror_mode": {
    "name": "ipython",
    "version": 2
   },
   "file_extension": ".py",
   "mimetype": "text/x-python",
   "name": "python",
   "nbconvert_exporter": "python",
   "pygments_lexer": "ipython2",
   "version": "2.7.6"
  }
 },
 "nbformat": 4,
 "nbformat_minor": 5
}
