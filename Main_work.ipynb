{
 "cells": [
  {
   "metadata": {},
   "cell_type": "markdown",
   "source": "# Import lib",
   "id": "cdd072b453019943"
  },
  {
   "metadata": {},
   "cell_type": "code",
   "source": [
    "import pandas as pd\n",
    "\n",
    "from utils import *\n",
    "from utils import eda_describe, select_data, impute"
   ],
   "id": "271f1e584fbcca4f",
   "outputs": [],
   "execution_count": null
  },
  {
   "metadata": {},
   "cell_type": "markdown",
   "source": "# Dataset",
   "id": "734be83be0be751e"
  },
  {
   "metadata": {},
   "cell_type": "markdown",
   "source": "## raw input",
   "id": "68040d0aa9e2f333"
  },
  {
   "metadata": {},
   "cell_type": "markdown",
   "source": "Raw data",
   "id": "6796cd3f311d0237"
  },
  {
   "metadata": {},
   "cell_type": "code",
   "source": [
    "# Load and preprocess\n",
    "# Load\n",
    "df = pd.read_csv(r'Dataset/dataset.csv')\n",
    "\n",
    "# Preprocess\n",
    "df = df[df['company'].isna()==False]\n",
    "df.drop(columns = ['platform'], inplace=True)\n",
    "\n",
    "    # Standardize cost\n",
    "df[['cogs', 'sales_cost', 'admin_cost']] = df[['cogs', 'sales_cost', 'admin_cost']].apply(\n",
    "    lambda x: abs(x)\n",
    ")\n",
    "\n",
    "    # for_own/gov_own -> dummy var (0 or null -> 0; else -> 1)\n",
    "df[['for_own', 'gov_own']] = df[['for_own', 'gov_own']].fillna(0)\n",
    "df['for_own'] = df['for_own'].apply(\n",
    "    lambda x: 0 if x == 0  else 1)\n",
    "df['gov_own'] = df['gov_own'].apply(\n",
    "    lambda x: 0 if x == 0  else 1)\n",
    "\n",
    "    ## ----- Data prescaled ------- ##\n",
    "df_raw = df.copy()\n",
    "df_raw.sort_values(by=['company', 'year'], ascending=True, inplace=True)"
   ],
   "id": "8964485da3aed0fb",
   "outputs": [],
   "execution_count": null
  },
  {
   "metadata": {},
   "cell_type": "markdown",
   "source": "To better reflect the value of the data, I scaled all vars based on GDP deflator of year 2010 for all vars (except percentage based vars)",
   "id": "e4898b37260aadb"
  },
  {
   "metadata": {},
   "cell_type": "code",
   "source": [
    "# Scaled data to GDP deflator 2010\n",
    "df_raw_deflator = df_raw.copy()\n",
    "df_raw_deflator['deflator_scaled'] = df_raw_deflator['year'].map(\n",
    "    {2015: 0.71, 2016: 0.70, 2017: 0.67,2018: 0.65,2019: 0.63,2020: 0.62,2021: 0.60,2022: 0.58,2023: 0.57,2024: 0.54})\n",
    "\n",
    "# Scaled\n",
    "df_raw_deflator[['ebitda', 'revenue', 'cogs', 'sales_cost',\n",
    "       'admin_cost', 'net_op_profit', 'short_receive', 'in_stock',\n",
    "       'invest_nav', 'long_receive', 'long_liability', 'short_liability',\n",
    "       'cash', 'fixed_asset', 'other_long_asset', 'cwip', 'other_short_asset',\n",
    "       'long_invest', 'equity_fund', 'other_fund', 'market_cap', 'ev']] = \\\n",
    "df_raw_deflator[['ebitda', 'revenue', 'cogs', 'sales_cost',\n",
    "       'admin_cost', 'net_op_profit', 'short_receive', 'in_stock',\n",
    "       'invest_nav', 'long_receive', 'long_liability', 'short_liability',\n",
    "       'cash', 'fixed_asset', 'other_long_asset', 'cwip', 'other_short_asset',\n",
    "       'long_invest', 'equity_fund', 'other_fund', 'market_cap', 'ev']].apply(lambda x:\n",
    "                                                                        x*df_raw_deflator['deflator_scaled'])\n",
    "\n",
    "# drop the scaler\n",
    "df_raw_deflator.drop(columns='deflator_scaled', inplace=True)"
   ],
   "id": "ce740feea47e63b4",
   "outputs": [],
   "execution_count": null
  },
  {
   "metadata": {},
   "cell_type": "markdown",
   "source": [
    "Comment:\n",
    "- Target variable (outcome): ebitda dummy, revenue, roa, roe, roic, roce, value_added (see vars_used.txt file for details)\n",
    "- As raw input, all the rest vars are used as features"
   ],
   "id": "a46ba9bf644b852a"
  },
  {
   "metadata": {},
   "cell_type": "markdown",
   "source": "## target var eda",
   "id": "7386f93ff51a2adf"
  },
  {
   "metadata": {},
   "cell_type": "markdown",
   "source": "REGRESSION PROBLEM",
   "id": "796eddcf2ee7e03e"
  },
  {
   "metadata": {},
   "cell_type": "markdown",
   "source": [
    "REVENUE:\n",
    "+ After applying log, skew and kurtosis of revenue decreases -> good\n",
    "+ The distribution of revenue turns into normal dist"
   ],
   "id": "50a33ab3e0b6ea4b"
  },
  {
   "metadata": {},
   "cell_type": "code",
   "source": [
    "# Revenue\n",
    "df_rev = df_raw_deflator.drop(columns=['ebitda', 'net_op_profit', 'roa','roe', 'roic', 'roce'])\n",
    "  # Filter for rev > 0\n",
    "df_rev = df_rev[df_rev['revenue']>0]\n",
    "print('-------- Original -----------')\n",
    "display(eda_describe(df_rev.drop(columns='year'))[:1])\n",
    "print('------- Log scaled ------------')\n",
    "df_rev_log = df_rev.copy()\n",
    "df_rev_log['revenue'] = df_rev_log['revenue'].apply(lambda x: np.log(x))\n",
    "display(eda_describe(df_rev_log.drop(columns='year'))[:1])\n",
    "    # Chart\n",
    "f, ax = plt.subplots(1,2, figsize=(10,4))\n",
    "ax[0].set_title('Revenue Origin')\n",
    "ax[0].set_ylim(top=200)\n",
    "sns.histplot(x=df_rev['revenue'], ax=ax[0])\n",
    "ax[1].set_title('Revenue Log')\n",
    "sns.histplot(x=df_rev_log['revenue'], ax=ax[1])"
   ],
   "id": "afcfc6218789563e",
   "outputs": [],
   "execution_count": null
  },
  {
   "metadata": {},
   "cell_type": "markdown",
   "source": [
    "VALUE ADD:\n",
    "+ 43 companies have no value_added, contributing mostly to the skewness of 3 of the transformed data\n",
    "+ However, the main part is still normal dist"
   ],
   "id": "815b72fb30a8b779"
  },
  {
   "metadata": {},
   "cell_type": "markdown",
   "source": [
    "ROA, ROE, ROIC, ROCE:\n",
    "+ Since mean and median of these metric are close, the data is likely symetric (though skew might be high)\n",
    "+ SO no transformation needed"
   ],
   "id": "4d46bd4921588306"
  },
  {
   "metadata": {},
   "cell_type": "code",
   "source": [
    "# roa roe roic roce\n",
    "df_roa = df_raw_deflator.drop(columns=['ebitda', 'net_op_profit','roe', 'roic', 'roce', 'revenue'])\n",
    "df_roe = df_raw_deflator.drop(columns=['ebitda', 'net_op_profit','roa', 'roic', 'roce', 'revenue'])\n",
    "df_roic = df_raw_deflator.drop(columns=['ebitda', 'net_op_profit','roe', 'roa', 'roce', 'revenue'])\n",
    "df_roce = df_raw_deflator.drop(columns=['ebitda', 'net_op_profit','roe', 'roa', 'roic', 'revenue'])\n",
    "\n",
    "# Describe\n",
    "print('-------- ROA -----------')\n",
    "display(eda_describe(df_roa[['roa']]))\n",
    "print('-------- ROE -----------')\n",
    "display(eda_describe(df_roe[['roe']]))\n",
    "print('-------- ROIC -----------')\n",
    "display(eda_describe(df_roic[['roic']]))\n",
    "print('-------- ROCE -----------')\n",
    "display(eda_describe(df_roce[['roce']]))"
   ],
   "id": "6d45bae030ae8945",
   "outputs": [],
   "execution_count": null
  },
  {
   "metadata": {},
   "cell_type": "markdown",
   "source": "CLASSIFICATION PROBLEM",
   "id": "f191fe1fd6dce867"
  },
  {
   "metadata": {},
   "cell_type": "markdown",
   "source": "VALUE-ADD",
   "id": "81ca69c15f81a28a"
  },
  {
   "metadata": {},
   "cell_type": "code",
   "source": [
    "# Value added\n",
    "df_valad = df_rev.copy()\n",
    "df_valad['value_add'] = df_valad['revenue'] - df_valad['cogs'] - df_valad['sales_cost'] - df_valad['admin_cost']\n",
    "df_valad.drop(columns=['revenue', 'cogs', 'sales_cost', 'admin_cost'], inplace=True)\n",
    "df_valad['value_add'] = df_valad['value_add'].apply(lambda x: 1 if x > 0 else (0 if x <=0 else x))\n",
    "df_valad.groupby('value_add')['value_add'].count()"
   ],
   "id": "794e7b6275326dd3",
   "outputs": [],
   "execution_count": null
  },
  {
   "metadata": {},
   "cell_type": "markdown",
   "source": "EBITDA",
   "id": "a4240f8eb98436a7"
  },
  {
   "metadata": {},
   "cell_type": "code",
   "source": [
    "# EBITDA\n",
    "df_ebitda = df_raw_deflator.drop(columns=['revenue', 'net_op_profit', 'roa','roe', 'roic', 'roce'])\n",
    "df_ebitda['ebitda'] = df_ebitda['ebitda'].apply(lambda x: 1 if x > 0 else (0 if x <=0 else x))\n",
    "df_ebitda.groupby('ebitda')['ebitda'].count()"
   ],
   "id": "e590486d68445700",
   "outputs": [],
   "execution_count": null
  },
  {
   "metadata": {},
   "cell_type": "markdown",
   "source": "## null treatment",
   "id": "bebf5553c86df150"
  },
  {
   "metadata": {},
   "cell_type": "markdown",
   "source": [
    "Comment:\n",
    "+ I have 7 target vars, equivalent to 7 different input dataset\n",
    "+ So I treat each seperately\n",
    "+ Rule: keep all companies that have data for at least 4 consecutive years, preserving temporal \\\n",
    "characteristic of the data, and each obs within lacks less than 6 values.\n",
    "+ For example: (2015,2016,2017 = invalid); (2015,2016,2017,2018 = valid); (2015,2016,2017,2019 = invalid)\n",
    "+ The rest will be imputed using KNN"
   ],
   "id": "91c2a75c1ad00329"
  },
  {
   "metadata": {},
   "cell_type": "markdown",
   "source": "SELECT DATA",
   "id": "736cb553434c12b6"
  },
  {
   "metadata": {},
   "cell_type": "code",
   "source": [
    "# Revenue data\n",
    "df_revenue = select_data(df_rev_log.drop(columns = ['ev', 'market_cap'])) # drop systematic null cols\n",
    "# Value add\n",
    "df_value = select_data(df_valad.drop(columns = ['ev', 'market_cap']))\n",
    "# Ebitda\n",
    "df_ebitda = select_data(df_ebitda.drop(columns = ['ev', 'market_cap']))\n",
    "\n",
    "\n",
    "# ROA\n",
    "df_roa = select_data(df_roa.drop(columns = ['ev', 'market_cap']))\n",
    "# ROE\n",
    "df_roe = select_data(df_roe.drop(columns = ['ev', 'market_cap']))\n",
    "# ROIC\n",
    "df_roic = select_data(df_roic.drop(columns = ['ev', 'market_cap']))\n",
    "# ROCE\n",
    "df_roce = select_data(df_roce.drop(columns = ['ev', 'market_cap']))\n"
   ],
   "id": "2aa7bd9d381ba43f",
   "outputs": [],
   "execution_count": null
  },
  {
   "metadata": {},
   "cell_type": "markdown",
   "source": "IMPUTATION",
   "id": "b638e221ee5d904a"
  },
  {
   "metadata": {},
   "cell_type": "code",
   "source": [
    "# Filled\n",
    "df_revenue = impute(df_revenue)\n",
    "df_value = impute(df_value)\n",
    "df_ebitda = impute(df_ebitda)\n",
    "\n",
    "df_roa = impute(df_roa)\n",
    "df_roe = impute(df_roe)\n",
    "df_roic = impute(df_roic)\n",
    "df_roce = impute(df_roce)"
   ],
   "id": "afe1e732efb2c293",
   "outputs": [],
   "execution_count": null
  },
  {
   "metadata": {},
   "cell_type": "markdown",
   "source": "## feature vars eda",
   "id": "b118d5684bdd909a"
  }
 ],
 "metadata": {
  "kernelspec": {
   "display_name": "Python 3",
   "language": "python",
   "name": "python3"
  },
  "language_info": {
   "codemirror_mode": {
    "name": "ipython",
    "version": 2
   },
   "file_extension": ".py",
   "mimetype": "text/x-python",
   "name": "python",
   "nbconvert_exporter": "python",
   "pygments_lexer": "ipython2",
   "version": "2.7.6"
  }
 },
 "nbformat": 4,
 "nbformat_minor": 5
}
